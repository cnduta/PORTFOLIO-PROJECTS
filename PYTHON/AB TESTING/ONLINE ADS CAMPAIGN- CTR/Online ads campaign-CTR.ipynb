{
 "cells": [
  {
   "cell_type": "markdown",
   "metadata": {},
   "source": [
    "# A/B TESTING: ONLINE ADVERTISING CAMPAIGN"
   ]
  },
  {
   "cell_type": "markdown",
   "metadata": {},
   "source": [
    "#### SCENARIO:A digital marketing team is running two different Facebook ads to see which one gets more clicks\n",
    "Ad A: Simple text and Image\n",
    "\n",
    "Ad B: Includes a video\n",
    "\n",
    "GOAL: Does the video ad increase click through rates (CTR)?"
   ]
  },
  {
   "cell_type": "code",
   "execution_count": 3,
   "metadata": {},
   "outputs": [
    {
     "name": "stdout",
     "output_type": "stream",
     "text": [
      "  Ad Version  Clicked\n",
      "0          A        0\n",
      "1          B        0\n",
      "2          B        0\n",
      "3          B        0\n",
      "4          A        0\n"
     ]
    }
   ],
   "source": [
    "# Generate 8000 AD impressions with random click probabilities\n",
    "import pandas as pd\n",
    "import numpy as np\n",
    "import scipy.stats as stats\n",
    "import matplotlib.pyplot as plt\n",
    "\n",
    "#Set seed for reproducibility\n",
    "np.random.seed(42)\n",
    "\n",
    "#Generate 8000 samples\n",
    "n=8000\n",
    "groups=np.random.choice(['A','B'],size =n, p=[0.5,0.5]) \n",
    "clicks= np.where(groups=='A',\n",
    "                np.random.binomial(1,0.03,n),   #3% CTR for A- Basic Ad\n",
    "                np.random.binomial(1,0.05,n)) # 5% CTR for B -Video Ad\n",
    "\n",
    "#Create DataFrame\n",
    "df=pd.DataFrame({'Ad Version': groups, 'Clicked':clicks})\n",
    "print(df.head())"
   ]
  },
  {
   "cell_type": "code",
   "execution_count": 7,
   "metadata": {},
   "outputs": [
    {
     "name": "stdout",
     "output_type": "stream",
     "text": [
      "Clicked        0    1\n",
      "Ad Version           \n",
      "A           3933  113\n",
      "B           3726  228\n",
      "Chi-Square statistic: 42.60\n",
      "P_value:  0.0000\n",
      "Conclusion: Video ads work better (statistically significant).\n"
     ]
    }
   ],
   "source": [
    "# Perform Chi- square test to check if the CTR difference is statistically sign\n",
    "\n",
    "#Create a contingency table\n",
    "contingency_table=pd.crosstab(df['Ad Version'],df['Clicked'])\n",
    "print(contingency_table)\n",
    "\n",
    "#Perform chi-square test\n",
    "chi2, p_value,dof,expected= stats.chi2_contingency(contingency_table)\n",
    "\n",
    "print(f\"Chi-Square statistic:{chi2: .2f}\")\n",
    "print(f\"P_value: {p_value: .4f}\")\n",
    "\n",
    "# Interpret the p-value\n",
    "if p_value < 0.05:\n",
    "    print(\"Conclusion: Video ads work better (statistically significant).\")\n",
    "else:\n",
    "    print(\"Conclusion: No significant difference; video ads have no advantage.\")"
   ]
  },
  {
   "cell_type": "code",
   "execution_count": 13,
   "metadata": {},
   "outputs": [
    {
     "data": {
      "image/png": "[encoded data removed]",
      "text/plain": [
       "<Figure size 600x400 with 1 Axes>"
      ]
     },
     "metadata": {},
     "output_type": "display_data"
    }
   ],
   "source": [
    "# Visualize the results\n",
    "\n",
    "#Calculate the CTR per group\n",
    "ctr=df.groupby('Ad Version')['Clicked'].mean()\n",
    "\n",
    "#Plot\n",
    "plt.figure(figsize=(6,4))\n",
    "plt.bar(ctr.index, ctr.values*100, color=['blue','purple'])\n",
    "plt.ylabel('Click- Through Rate (%)')\n",
    "plt.title('Ad CTR by Ad Type')\n",
    "plt.ylim(0,6)\n",
    "\n",
    "\n",
    "# Add interpretation based on p-value\n",
    "if p_value < 0.05:\n",
    "    conclusion_text = \"Conclusion: Video ads perform better!\"\n",
    "    color = \"green\"\n",
    "else:\n",
    "    conclusion_text = \"Conclusion: No significant advantage of video ads.\"\n",
    "    color = \"red\"\n",
    "\n",
    "\n",
    "\n",
    "# Add conclusion as a footnote\n",
    "plt.figtext(0.5, -0.1, conclusion_text, fontsize=12, color=color, ha='center', weight='bold')\n",
    "plt.show()"
   ]
  }
 ],
 "metadata": {
  "kernelspec": {
   "display_name": "Python 3",
   "language": "python",
   "name": "python3"
  },
  "language_info": {
   "codemirror_mode": {
    "name": "ipython",
    "version": 3
   },
   "file_extension": ".py",
   "mimetype": "text/x-python",
   "name": "python",
   "nbconvert_exporter": "python",
   "pygments_lexer": "ipython3",
   "version": "3.12.3"
  }
 },
 "nbformat": 4,
 "nbformat_minor": 2
}
